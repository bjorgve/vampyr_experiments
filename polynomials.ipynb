{
 "cells": [
  {
   "cell_type": "code",
   "execution_count": 1,
   "metadata": {
    "collapsed": true
   },
   "outputs": [],
   "source": [
    "import numpy as np\n",
    "import vampyr3d as vp\n",
    "\n",
    "from numpy import pi\n",
    "\n",
    "from math import isclose\n",
    "\n",
    "min_scale = -2\n",
    "max_depth = 25\n",
    "order = 5\n",
    "prec = 1e-3\n",
    "\n",
    "corner = [0, 0, 0]\n",
    "box = 2\n",
    "boxes = [box, box, box]\n",
    "\n",
    "\n",
    "\n",
    "world = vp.BoundingBox(min_scale, corner, boxes)\n",
    "basis = vp.InterpolatingBasis(order)\n",
    "MRA = vp.MultiResolutionAnalysis(world, basis, max_depth)\n",
    "mid = MRA.getWorldBox().getBoxLength(1)/2.0"
   ]
  },
  {
   "cell_type": "code",
   "execution_count": 2,
   "metadata": {},
   "outputs": [
    {
     "name": "stdout",
     "output_type": "stream",
     "text": [
      "Help on class Polynomial in module vampyr3d:\n",
      "\n",
      "class Polynomial(RepresentableFunction1D)\n",
      " |  Method resolution order:\n",
      " |      Polynomial\n",
      " |      RepresentableFunction1D\n",
      " |      pybind11_builtins.pybind11_object\n",
      " |      builtins.object\n",
      " |  \n",
      " |  Methods defined here:\n",
      " |  \n",
      " |  __init__(...)\n",
      " |      __init__(self: vampyr3d.Polynomial, order: int, a: float=None, b: float=None) -> None\n",
      " |  \n",
      " |  evalf(...)\n",
      " |      evalf(self: vampyr3d.Polynomial, arg0: float) -> float\n",
      " |  \n",
      " |  getCoefs(...)\n",
      " |      getCoefs(self: vampyr3d.Polynomial) -> numpy.ndarray[float64[m, 1]]\n",
      " |  \n",
      " |  setCoefs(...)\n",
      " |      setCoefs(self: vampyr3d.Polynomial, arg0: numpy.ndarray[float64[m, 1]]) -> None\n",
      " |  \n",
      " |  size(...)\n",
      " |      size(self: vampyr3d.Polynomial) -> int\n",
      " |  \n",
      " |  ----------------------------------------------------------------------\n",
      " |  Methods inherited from pybind11_builtins.pybind11_object:\n",
      " |  \n",
      " |  __new__(*args, **kwargs) from pybind11_builtins.pybind11_type\n",
      " |      Create and return a new object.  See help(type) for accurate signature.\n",
      "\n"
     ]
    }
   ],
   "source": [
    "help(vp.Polynomial)"
   ]
  },
  {
   "cell_type": "code",
   "execution_count": 3,
   "metadata": {},
   "outputs": [],
   "source": [
    "a = vp.Polynomial(2, 0.0, 10.0)"
   ]
  },
  {
   "cell_type": "code",
   "execution_count": 4,
   "metadata": {},
   "outputs": [
    {
     "data": {
      "text/plain": [
       "0.0"
      ]
     },
     "execution_count": 4,
     "metadata": {},
     "output_type": "execute_result"
    }
   ],
   "source": [
    "a.evalf(1.0)"
   ]
  },
  {
   "cell_type": "code",
   "execution_count": 5,
   "metadata": {},
   "outputs": [],
   "source": [
    "a.setCoefs([1, 2, 3])"
   ]
  },
  {
   "cell_type": "code",
   "execution_count": 6,
   "metadata": {},
   "outputs": [
    {
     "data": {
      "text/plain": [
       "6.830000000000001"
      ]
     },
     "execution_count": 6,
     "metadata": {},
     "output_type": "execute_result"
    }
   ],
   "source": [
    "a.evalf(1.1)"
   ]
  },
  {
   "cell_type": "code",
   "execution_count": 7,
   "metadata": {},
   "outputs": [
    {
     "data": {
      "text/plain": [
       "array([ 1.,  2.,  3.])"
      ]
     },
     "execution_count": 7,
     "metadata": {},
     "output_type": "execute_result"
    }
   ],
   "source": [
    "a.getCoefs()"
   ]
  },
  {
   "cell_type": "code",
   "execution_count": null,
   "metadata": {
    "collapsed": true
   },
   "outputs": [],
   "source": []
  }
 ],
 "metadata": {
  "kernelspec": {
   "display_name": "Python 3",
   "language": "python",
   "name": "python3"
  },
  "language_info": {
   "codemirror_mode": {
    "name": "ipython",
    "version": 3
   },
   "file_extension": ".py",
   "mimetype": "text/x-python",
   "name": "python",
   "nbconvert_exporter": "python",
   "pygments_lexer": "ipython3",
   "version": "3.6.2"
  }
 },
 "nbformat": 4,
 "nbformat_minor": 2
}
