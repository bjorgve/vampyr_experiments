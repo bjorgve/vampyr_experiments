{
 "cells": [
  {
   "cell_type": "code",
   "execution_count": 6,
   "metadata": {},
   "outputs": [],
   "source": [
    "import numpy as np\n",
    "import vampyr3d as vp\n",
    "\n",
    "from numpy import pi\n",
    "\n",
    "from math import isclose\n",
    "\n",
    "min_scale = 0\n",
    "max_depth = 25\n",
    "order = 5\n",
    "prec = 1e-3\n",
    "\n",
    "corner = [0, 0, 0]\n",
    "box = 1\n",
    "boxes = [box, box, box]\n",
    "\n",
    "mid = .5\n",
    "\n",
    "world = vp.BoundingBox(min_scale, corner, boxes)\n",
    "basis = vp.InterpolatingBasis(order)\n",
    "MRA = vp.MultiResolutionAnalysis(world, basis, max_depth)\n",
    "\n",
    "\n",
    "\n",
    "def phi_exact(x):\n",
    "    beta = 100.0\n",
    "    alpha = (beta/np.pi)**(3/2)\n",
    "\n",
    "    return alpha*np.exp(-beta*((x[0] - mid)**2 + (x[1] - mid)**2 + (x[2] - mid)**2))\n",
    "\n",
    "\n",
    "def d_phi_exact(x):\n",
    "    beta = 100.0\n",
    "    alpha = (beta/np.pi)**(3/2)\n",
    "\n",
    "    return -2.0*beta*alpha*x[0]*np.exp(-beta*(x[0]**2 + x[1]**2 + x[2]**2))\n",
    "\n",
    "\n",
    "def v_helm(x):\n",
    "    mu = 10.0\n",
    "    beta = 100.0\n",
    "    alpha = (beta/np.pi)**(3/2)\n",
    "    coef = -6.0*beta + 4*beta**2*(x[0] - mid)**2 +\\\n",
    "        4*beta**2*(x[1]-mid)**2 + 4*beta**2*(x[2]-mid)**2 - mu**2\n",
    "\n",
    "    return (-1/(4.0*np.pi))*alpha*coef*np.exp(-beta*((x[0]-mid)**2 +\n",
    "                                              (x[1]-mid)**2 + (x[2]-mid)**2))\n",
    "\n",
    "\n",
    "def v_pois(x):\n",
    "    beta = 100.0\n",
    "    alpha = (beta/np.pi)**(3/2)\n",
    "    coef = -6.0*beta + 4*beta**2*(x[0]-.5)**2 +\\\n",
    "        4*beta**2*(x[1]-.5)**2 + 4*beta**2*(x[2]-.5)**2\n",
    "\n",
    "    return (-1/(4.0*np.pi))*alpha*coef*np.exp(-beta*((x[0]-.5)**2 +\n",
    "                                              (x[1]-.5)**2 + (x[2]-.5)**2))\n",
    "\n",
    "H = vp.HelmholtzOperator(MRA, 10.0, prec)\n",
    "P = vp.PoissonOperator(MRA, prec)\n",
    "\n"
   ]
  },
  {
   "cell_type": "code",
   "execution_count": 7,
   "metadata": {},
   "outputs": [
    {
     "data": {
      "text/plain": [
       "1.0"
      ]
     },
     "execution_count": 7,
     "metadata": {},
     "output_type": "execute_result"
    }
   ],
   "source": [
    "MRA.getWorldBox().getBoxLength(2)"
   ]
  },
  {
   "cell_type": "code",
   "execution_count": 8,
   "metadata": {
    "collapsed": true
   },
   "outputs": [],
   "source": [
    "phi_tree = vp.FunctionTree(MRA)\n",
    "phi_tree_pois = vp.FunctionTree(MRA)\n",
    "v_tree = vp.FunctionTree(MRA)\n",
    "v_tree_pois = vp.FunctionTree(MRA)"
   ]
  },
  {
   "cell_type": "code",
   "execution_count": 9,
   "metadata": {
    "collapsed": true
   },
   "outputs": [],
   "source": [
    "vp.project(prec, v_tree, v_helm)\n",
    "vp.project(prec, v_tree_pois, v_pois)\n",
    "\n",
    "vp.apply(prec, phi_tree, H, v_tree)\n",
    "vp.apply(prec, phi_tree_pois, P, v_tree_pois)"
   ]
  },
  {
   "cell_type": "code",
   "execution_count": 10,
   "metadata": {},
   "outputs": [],
   "source": [
    "import matplotlib.pyplot as plt\n",
    "\n",
    "x = np.arange(0, MRA.getWorldBox().getBoxLength(2), .01)\n",
    "\n",
    "def give_y(x):\n",
    "    y = np.empty(x.size, dtype=float)\n",
    "    for i in range(x.size):\n",
    "        tmp = x[i]\n",
    "        y[i] = phi_tree.evalf([tmp, mid, mid])\n",
    "    return y\n",
    "\n",
    "\n",
    "def give_y_exact(x):\n",
    "    y = np.empty(x.size, dtype=float)\n",
    "    for i in range(x.size):\n",
    "        tmp = x[i]\n",
    "        y[i] = phi_exact([tmp, mid, mid])\n",
    "    return y"
   ]
  },
  {
   "cell_type": "code",
   "execution_count": 11,
   "metadata": {},
   "outputs": [
    {
     "data": {
      "image/png": "[encoded data removed]",
      "text/plain": [
       "<matplotlib.figure.Figure at 0x7fcda1d6b908>"
      ]
     },
     "metadata": {},
     "output_type": "display_data"
    }
   ],
   "source": [
    "y = give_y(x)\n",
    "y_exact = give_y_exact(x)\n",
    "\n",
    "plt.plot(x, y_exact, x, y)\n",
    "plt.show()"
   ]
  },
  {
   "cell_type": "code",
   "execution_count": 12,
   "metadata": {},
   "outputs": [
    {
     "data": {
      "text/plain": [
       "0.9991483131453045"
      ]
     },
     "execution_count": 12,
     "metadata": {},
     "output_type": "execute_result"
    }
   ],
   "source": [
    "phi_tree.integrate()"
   ]
  },
  {
   "cell_type": "code",
   "execution_count": null,
   "metadata": {
    "collapsed": true
   },
   "outputs": [],
   "source": []
  }
 ],
 "metadata": {
  "kernelspec": {
   "display_name": "Python 3",
   "language": "python",
   "name": "python3"
  },
  "language_info": {
   "codemirror_mode": {
    "name": "ipython",
    "version": 3
   },
   "file_extension": ".py",
   "mimetype": "text/x-python",
   "name": "python",
   "nbconvert_exporter": "python",
   "pygments_lexer": "ipython3",
   "version": "3.6.2"
  }
 },
 "nbformat": 4,
 "nbformat_minor": 2
}
