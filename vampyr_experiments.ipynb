{
 "cells": [
  {
   "cell_type": "code",
   "execution_count": 105,
   "metadata": {
    "collapsed": true
   },
   "outputs": [],
   "source": [
    "import numpy as np\n",
    "import vampyr3d as vp\n",
    "\n",
    "from numpy import pi\n",
    "\n",
    "from math import isclose\n",
    "\n",
    "min_scale = -2\n",
    "max_depth = 25\n",
    "order = 5\n",
    "prec = 1e-3\n",
    "\n",
    "corner = [0, 0, 0]\n",
    "box = 2\n",
    "boxes = [box, box, box]\n",
    "\n",
    "\n",
    "\n",
    "world = vp.BoundingBox(min_scale, corner, boxes)\n",
    "basis = vp.InterpolatingBasis(order)\n",
    "MRA = vp.MultiResolutionAnalysis(world, basis, max_depth)\n",
    "mid = MRA.getWorldBox().getBoxLength(1)/2.0\n",
    "\n",
    "scaling = 2.0*pi\n",
    "\n",
    "\n",
    "def phi_exact(x):\n",
    "    beta = 100.0\n",
    "    alpha = (beta/np.pi)**(3/2)\n",
    "\n",
    "    return alpha*np.exp(-beta*((scaling*x[0] - scaling*mid)**2 + (scaling*x[1] - scaling*mid)**2 + (scaling*x[2] - scaling*mid)**2))\n",
    "\n",
    "\n",
    "def v_helm(x):\n",
    "    mu = 10.0\n",
    "    beta = 100.0\n",
    "    alpha = (beta/np.pi)**(3/2)\n",
    "    coef = -6.0*beta + 4*beta**2*(scaling*x[0] - scaling*mid)**2 +\\\n",
    "        4*beta**2*(scaling*x[1]-scaling*mid)**2 + 4*beta**2*(scaling*x[2]-scaling*mid)**2 - mu**2\n",
    "\n",
    "    return (-1/(4.0*np.pi))*alpha*coef*np.exp(-beta*((scaling*x[0]-scaling*mid)**2 +\n",
    "                                              (scaling*x[1]-scaling*mid)**2 + (scaling*x[2]-scaling*mid)**2))\n",
    "\n",
    "\n",
    "def v_pois(x):\n",
    "    beta = 100.0\n",
    "    alpha = (beta/np.pi)**(3/2)\n",
    "    coef = -6.0*beta + 4*beta**2*(scaling*x[0]-scaling*mid)**2 +\\\n",
    "        4*beta**2*(scaling*x[1]-scaling*mid)**2 + 4*beta**2*(scaling*x[2]-scaling*mid)**2\n",
    "\n",
    "    return (-1/(4.0*np.pi))*alpha*coef*np.exp(-beta*((scaling*x[0]-scaling*mid)**2 +\n",
    "                                              (scaling*x[1]-scaling*mid)**2 + (scaling*x[2]-scaling*mid)**2))\n",
    "\n",
    "H = vp.HelmholtzOperator(MRA, 10.0, prec)\n",
    "P = vp.PoissonOperator(MRA, prec)\n",
    "\n"
   ]
  },
  {
   "cell_type": "code",
   "execution_count": 106,
   "metadata": {
    "collapsed": true
   },
   "outputs": [],
   "source": [
    "phi_tree = vp.FunctionTree(MRA)\n",
    "phi_tree_pois = vp.FunctionTree(MRA)\n",
    "v_tree = vp.FunctionTree(MRA)\n",
    "v_tree_pois = vp.FunctionTree(MRA)\n",
    "exact_tree = vp.FunctionTree(MRA)"
   ]
  },
  {
   "cell_type": "code",
   "execution_count": 107,
   "metadata": {
    "collapsed": true
   },
   "outputs": [],
   "source": [
    "vp.project(prec, v_tree, v_helm)\n",
    "vp.project(prec, v_tree_pois, v_pois)\n",
    "vp.project(prec, exact_tree, phi_exact)\n",
    "\n",
    "vp.apply(prec, phi_tree, H, v_tree)\n",
    "vp.apply(prec, phi_tree_pois, P, v_tree_pois)"
   ]
  },
  {
   "cell_type": "code",
   "execution_count": 108,
   "metadata": {
    "collapsed": true
   },
   "outputs": [],
   "source": [
    "import matplotlib.pyplot as plt\n",
    "\n",
    "x = np.arange(0, MRA.getWorldBox().getBoxLength(2), .01)\n",
    "\n",
    "def give_y(x):\n",
    "    y = np.empty(x.size, dtype=float)\n",
    "    for i in range(x.size):\n",
    "        tmp = x[i]\n",
    "        y[i] = phi_tree.evalf([tmp, mid, mid])\n",
    "    return y\n",
    "\n",
    "def give_y_pois(x):\n",
    "    y = np.empty(x.size, dtype=float)\n",
    "    for i in range(x.size):\n",
    "        tmp = x[i]\n",
    "        y[i] = phi_tree_pois.evalf([tmp, mid, mid])\n",
    "    return y\n",
    "\n",
    "\n",
    "def give_y_exact(x):\n",
    "    y = np.empty(x.size, dtype=float)\n",
    "    for i in range(x.size):\n",
    "        tmp = x[i]\n",
    "        y[i] = phi_exact([tmp, mid, mid])\n",
    "    return y"
   ]
  },
  {
   "cell_type": "code",
   "execution_count": 117,
   "metadata": {},
   "outputs": [
    {
     "data": {
      "image/png": "[encoded data removed]",
      "text/plain": [
       "<matplotlib.figure.Figure at 0x7fdc0fb932e8>"
      ]
     },
     "metadata": {},
     "output_type": "display_data"
    }
   ],
   "source": [
    "y = give_y(x)\n",
    "y_pois = give_y_pois(x)\n",
    "y_exact = give_y_exact(x)\n",
    "\n",
    "plt.plot(x, y_exact)\n",
    "plt.plot(x, y_pois)\n",
    "plt.show()"
   ]
  },
  {
   "cell_type": "code",
   "execution_count": 116,
   "metadata": {},
   "outputs": [
    {
     "data": {
      "text/plain": [
       "2.5247835620864383e-23"
      ]
     },
     "execution_count": 116,
     "metadata": {},
     "output_type": "execute_result"
    }
   ],
   "source": [
    "exact_tree.integrate()"
   ]
  },
  {
   "cell_type": "code",
   "execution_count": 111,
   "metadata": {},
   "outputs": [
    {
     "data": {
      "text/plain": [
       "0.0"
      ]
     },
     "execution_count": 111,
     "metadata": {},
     "output_type": "execute_result"
    }
   ],
   "source": [
    "phi_tree_pois.integrate()*2**5"
   ]
  },
  {
   "cell_type": "code",
   "execution_count": 115,
   "metadata": {},
   "outputs": [
    {
     "data": {
      "text/plain": [
       "179.58712212516656"
      ]
     },
     "execution_count": 115,
     "metadata": {},
     "output_type": "execute_result"
    }
   ],
   "source": [
    "phi_exact([mid, mid, mid])"
   ]
  },
  {
   "cell_type": "code",
   "execution_count": 113,
   "metadata": {},
   "outputs": [
    {
     "data": {
      "text/plain": [
       "0.0"
      ]
     },
     "execution_count": 113,
     "metadata": {},
     "output_type": "execute_result"
    }
   ],
   "source": [
    "phi_tree.evalf([mid-.05, mid, mid])"
   ]
  },
  {
   "cell_type": "code",
   "execution_count": 119,
   "metadata": {},
   "outputs": [
    {
     "data": {
      "text/plain": [
       "215000"
      ]
     },
     "execution_count": 119,
     "metadata": {},
     "output_type": "execute_result"
    }
   ],
   "source": [
    "2950000-2485000-250000"
   ]
  },
  {
   "cell_type": "code",
   "execution_count": null,
   "metadata": {
    "collapsed": true
   },
   "outputs": [],
   "source": []
  }
 ],
 "metadata": {
  "kernelspec": {
   "display_name": "Python 3",
   "language": "python",
   "name": "python3"
  },
  "language_info": {
   "codemirror_mode": {
    "name": "ipython",
    "version": 3
   },
   "file_extension": ".py",
   "mimetype": "text/x-python",
   "name": "python",
   "nbconvert_exporter": "python",
   "pygments_lexer": "ipython3",
   "version": "3.6.2"
  }
 },
 "nbformat": 4,
 "nbformat_minor": 2
}
